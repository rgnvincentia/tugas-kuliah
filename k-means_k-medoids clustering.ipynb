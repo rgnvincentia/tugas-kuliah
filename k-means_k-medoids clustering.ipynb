{
  "nbformat": 4,
  "nbformat_minor": 0,
  "metadata": {
    "colab": {
      "provenance": []
    },
    "kernelspec": {
      "name": "python3",
      "display_name": "Python 3"
    },
    "language_info": {
      "name": "python"
    }
  },
  "cells": [
    {
      "cell_type": "code",
      "metadata": {
        "colab": {
          "base_uri": "https://localhost:8080/"
        },
        "id": "RYC4j39Vy0qt",
        "outputId": "153a468f-3f74-4ea8-c507-0498b0b730c6"
      },
      "source": [
        "!pip install scikit-learn-extra"
      ],
      "execution_count": null,
      "outputs": [
        {
          "output_type": "stream",
          "name": "stdout",
          "text": [
            "Collecting scikit-learn-extra\n",
            "  Downloading scikit_learn_extra-0.2.0-cp37-cp37m-manylinux2010_x86_64.whl (1.7 MB)\n",
            "\u001b[?25l\r\u001b[K     |▏                               | 10 kB 24.7 MB/s eta 0:00:01\r\u001b[K     |▍                               | 20 kB 28.6 MB/s eta 0:00:01\r\u001b[K     |▋                               | 30 kB 27.3 MB/s eta 0:00:01\r\u001b[K     |▊                               | 40 kB 20.6 MB/s eta 0:00:01\r\u001b[K     |█                               | 51 kB 17.2 MB/s eta 0:00:01\r\u001b[K     |█▏                              | 61 kB 12.3 MB/s eta 0:00:01\r\u001b[K     |█▍                              | 71 kB 13.2 MB/s eta 0:00:01\r\u001b[K     |█▌                              | 81 kB 14.7 MB/s eta 0:00:01\r\u001b[K     |█▊                              | 92 kB 14.4 MB/s eta 0:00:01\r\u001b[K     |██                              | 102 kB 14.0 MB/s eta 0:00:01\r\u001b[K     |██                              | 112 kB 14.0 MB/s eta 0:00:01\r\u001b[K     |██▎                             | 122 kB 14.0 MB/s eta 0:00:01\r\u001b[K     |██▌                             | 133 kB 14.0 MB/s eta 0:00:01\r\u001b[K     |██▊                             | 143 kB 14.0 MB/s eta 0:00:01\r\u001b[K     |██▉                             | 153 kB 14.0 MB/s eta 0:00:01\r\u001b[K     |███                             | 163 kB 14.0 MB/s eta 0:00:01\r\u001b[K     |███▎                            | 174 kB 14.0 MB/s eta 0:00:01\r\u001b[K     |███▌                            | 184 kB 14.0 MB/s eta 0:00:01\r\u001b[K     |███▋                            | 194 kB 14.0 MB/s eta 0:00:01\r\u001b[K     |███▉                            | 204 kB 14.0 MB/s eta 0:00:01\r\u001b[K     |████                            | 215 kB 14.0 MB/s eta 0:00:01\r\u001b[K     |████▏                           | 225 kB 14.0 MB/s eta 0:00:01\r\u001b[K     |████▍                           | 235 kB 14.0 MB/s eta 0:00:01\r\u001b[K     |████▋                           | 245 kB 14.0 MB/s eta 0:00:01\r\u001b[K     |████▉                           | 256 kB 14.0 MB/s eta 0:00:01\r\u001b[K     |█████                           | 266 kB 14.0 MB/s eta 0:00:01\r\u001b[K     |█████▏                          | 276 kB 14.0 MB/s eta 0:00:01\r\u001b[K     |█████▍                          | 286 kB 14.0 MB/s eta 0:00:01\r\u001b[K     |█████▋                          | 296 kB 14.0 MB/s eta 0:00:01\r\u001b[K     |█████▊                          | 307 kB 14.0 MB/s eta 0:00:01\r\u001b[K     |██████                          | 317 kB 14.0 MB/s eta 0:00:01\r\u001b[K     |██████▏                         | 327 kB 14.0 MB/s eta 0:00:01\r\u001b[K     |██████▎                         | 337 kB 14.0 MB/s eta 0:00:01\r\u001b[K     |██████▌                         | 348 kB 14.0 MB/s eta 0:00:01\r\u001b[K     |██████▊                         | 358 kB 14.0 MB/s eta 0:00:01\r\u001b[K     |███████                         | 368 kB 14.0 MB/s eta 0:00:01\r\u001b[K     |███████                         | 378 kB 14.0 MB/s eta 0:00:01\r\u001b[K     |███████▎                        | 389 kB 14.0 MB/s eta 0:00:01\r\u001b[K     |███████▌                        | 399 kB 14.0 MB/s eta 0:00:01\r\u001b[K     |███████▋                        | 409 kB 14.0 MB/s eta 0:00:01\r\u001b[K     |███████▉                        | 419 kB 14.0 MB/s eta 0:00:01\r\u001b[K     |████████                        | 430 kB 14.0 MB/s eta 0:00:01\r\u001b[K     |████████▎                       | 440 kB 14.0 MB/s eta 0:00:01\r\u001b[K     |████████▍                       | 450 kB 14.0 MB/s eta 0:00:01\r\u001b[K     |████████▋                       | 460 kB 14.0 MB/s eta 0:00:01\r\u001b[K     |████████▉                       | 471 kB 14.0 MB/s eta 0:00:01\r\u001b[K     |█████████                       | 481 kB 14.0 MB/s eta 0:00:01\r\u001b[K     |█████████▏                      | 491 kB 14.0 MB/s eta 0:00:01\r\u001b[K     |█████████▍                      | 501 kB 14.0 MB/s eta 0:00:01\r\u001b[K     |█████████▋                      | 512 kB 14.0 MB/s eta 0:00:01\r\u001b[K     |█████████▊                      | 522 kB 14.0 MB/s eta 0:00:01\r\u001b[K     |██████████                      | 532 kB 14.0 MB/s eta 0:00:01\r\u001b[K     |██████████▏                     | 542 kB 14.0 MB/s eta 0:00:01\r\u001b[K     |██████████▍                     | 552 kB 14.0 MB/s eta 0:00:01\r\u001b[K     |██████████▌                     | 563 kB 14.0 MB/s eta 0:00:01\r\u001b[K     |██████████▊                     | 573 kB 14.0 MB/s eta 0:00:01\r\u001b[K     |███████████                     | 583 kB 14.0 MB/s eta 0:00:01\r\u001b[K     |███████████▏                    | 593 kB 14.0 MB/s eta 0:00:01\r\u001b[K     |███████████▎                    | 604 kB 14.0 MB/s eta 0:00:01\r\u001b[K     |███████████▌                    | 614 kB 14.0 MB/s eta 0:00:01\r\u001b[K     |███████████▊                    | 624 kB 14.0 MB/s eta 0:00:01\r\u001b[K     |███████████▉                    | 634 kB 14.0 MB/s eta 0:00:01\r\u001b[K     |████████████                    | 645 kB 14.0 MB/s eta 0:00:01\r\u001b[K     |████████████▎                   | 655 kB 14.0 MB/s eta 0:00:01\r\u001b[K     |████████████▌                   | 665 kB 14.0 MB/s eta 0:00:01\r\u001b[K     |████████████▋                   | 675 kB 14.0 MB/s eta 0:00:01\r\u001b[K     |████████████▉                   | 686 kB 14.0 MB/s eta 0:00:01\r\u001b[K     |█████████████                   | 696 kB 14.0 MB/s eta 0:00:01\r\u001b[K     |█████████████▏                  | 706 kB 14.0 MB/s eta 0:00:01\r\u001b[K     |█████████████▍                  | 716 kB 14.0 MB/s eta 0:00:01\r\u001b[K     |█████████████▋                  | 727 kB 14.0 MB/s eta 0:00:01\r\u001b[K     |█████████████▉                  | 737 kB 14.0 MB/s eta 0:00:01\r\u001b[K     |██████████████                  | 747 kB 14.0 MB/s eta 0:00:01\r\u001b[K     |██████████████▏                 | 757 kB 14.0 MB/s eta 0:00:01\r\u001b[K     |██████████████▍                 | 768 kB 14.0 MB/s eta 0:00:01\r\u001b[K     |██████████████▋                 | 778 kB 14.0 MB/s eta 0:00:01\r\u001b[K     |██████████████▊                 | 788 kB 14.0 MB/s eta 0:00:01\r\u001b[K     |███████████████                 | 798 kB 14.0 MB/s eta 0:00:01\r\u001b[K     |███████████████▏                | 808 kB 14.0 MB/s eta 0:00:01\r\u001b[K     |███████████████▎                | 819 kB 14.0 MB/s eta 0:00:01\r\u001b[K     |███████████████▌                | 829 kB 14.0 MB/s eta 0:00:01\r\u001b[K     |███████████████▊                | 839 kB 14.0 MB/s eta 0:00:01\r\u001b[K     |████████████████                | 849 kB 14.0 MB/s eta 0:00:01\r\u001b[K     |████████████████                | 860 kB 14.0 MB/s eta 0:00:01\r\u001b[K     |████████████████▎               | 870 kB 14.0 MB/s eta 0:00:01\r\u001b[K     |████████████████▌               | 880 kB 14.0 MB/s eta 0:00:01\r\u001b[K     |████████████████▊               | 890 kB 14.0 MB/s eta 0:00:01\r\u001b[K     |████████████████▉               | 901 kB 14.0 MB/s eta 0:00:01\r\u001b[K     |█████████████████               | 911 kB 14.0 MB/s eta 0:00:01\r\u001b[K     |█████████████████▎              | 921 kB 14.0 MB/s eta 0:00:01\r\u001b[K     |█████████████████▍              | 931 kB 14.0 MB/s eta 0:00:01\r\u001b[K     |█████████████████▋              | 942 kB 14.0 MB/s eta 0:00:01\r\u001b[K     |█████████████████▉              | 952 kB 14.0 MB/s eta 0:00:01\r\u001b[K     |██████████████████              | 962 kB 14.0 MB/s eta 0:00:01\r\u001b[K     |██████████████████▏             | 972 kB 14.0 MB/s eta 0:00:01\r\u001b[K     |██████████████████▍             | 983 kB 14.0 MB/s eta 0:00:01\r\u001b[K     |██████████████████▋             | 993 kB 14.0 MB/s eta 0:00:01\r\u001b[K     |██████████████████▊             | 1.0 MB 14.0 MB/s eta 0:00:01\r\u001b[K     |███████████████████             | 1.0 MB 14.0 MB/s eta 0:00:01\r\u001b[K     |███████████████████▏            | 1.0 MB 14.0 MB/s eta 0:00:01\r\u001b[K     |███████████████████▍            | 1.0 MB 14.0 MB/s eta 0:00:01\r\u001b[K     |███████████████████▌            | 1.0 MB 14.0 MB/s eta 0:00:01\r\u001b[K     |███████████████████▊            | 1.1 MB 14.0 MB/s eta 0:00:01\r\u001b[K     |████████████████████            | 1.1 MB 14.0 MB/s eta 0:00:01\r\u001b[K     |████████████████████▏           | 1.1 MB 14.0 MB/s eta 0:00:01\r\u001b[K     |████████████████████▎           | 1.1 MB 14.0 MB/s eta 0:00:01\r\u001b[K     |████████████████████▌           | 1.1 MB 14.0 MB/s eta 0:00:01\r\u001b[K     |████████████████████▊           | 1.1 MB 14.0 MB/s eta 0:00:01\r\u001b[K     |████████████████████▉           | 1.1 MB 14.0 MB/s eta 0:00:01\r\u001b[K     |█████████████████████           | 1.1 MB 14.0 MB/s eta 0:00:01\r\u001b[K     |█████████████████████▎          | 1.1 MB 14.0 MB/s eta 0:00:01\r\u001b[K     |█████████████████████▌          | 1.1 MB 14.0 MB/s eta 0:00:01\r\u001b[K     |█████████████████████▋          | 1.2 MB 14.0 MB/s eta 0:00:01\r\u001b[K     |█████████████████████▉          | 1.2 MB 14.0 MB/s eta 0:00:01\r\u001b[K     |██████████████████████          | 1.2 MB 14.0 MB/s eta 0:00:01\r\u001b[K     |██████████████████████▎         | 1.2 MB 14.0 MB/s eta 0:00:01\r\u001b[K     |██████████████████████▍         | 1.2 MB 14.0 MB/s eta 0:00:01\r\u001b[K     |██████████████████████▋         | 1.2 MB 14.0 MB/s eta 0:00:01\r\u001b[K     |██████████████████████▉         | 1.2 MB 14.0 MB/s eta 0:00:01\r\u001b[K     |███████████████████████         | 1.2 MB 14.0 MB/s eta 0:00:01\r\u001b[K     |███████████████████████▏        | 1.2 MB 14.0 MB/s eta 0:00:01\r\u001b[K     |███████████████████████▍        | 1.2 MB 14.0 MB/s eta 0:00:01\r\u001b[K     |███████████████████████▋        | 1.3 MB 14.0 MB/s eta 0:00:01\r\u001b[K     |███████████████████████▊        | 1.3 MB 14.0 MB/s eta 0:00:01\r\u001b[K     |████████████████████████        | 1.3 MB 14.0 MB/s eta 0:00:01\r\u001b[K     |████████████████████████▏       | 1.3 MB 14.0 MB/s eta 0:00:01\r\u001b[K     |████████████████████████▎       | 1.3 MB 14.0 MB/s eta 0:00:01\r\u001b[K     |████████████████████████▌       | 1.3 MB 14.0 MB/s eta 0:00:01\r\u001b[K     |████████████████████████▊       | 1.3 MB 14.0 MB/s eta 0:00:01\r\u001b[K     |█████████████████████████       | 1.3 MB 14.0 MB/s eta 0:00:01\r\u001b[K     |█████████████████████████       | 1.3 MB 14.0 MB/s eta 0:00:01\r\u001b[K     |█████████████████████████▎      | 1.4 MB 14.0 MB/s eta 0:00:01\r\u001b[K     |█████████████████████████▌      | 1.4 MB 14.0 MB/s eta 0:00:01\r\u001b[K     |█████████████████████████▊      | 1.4 MB 14.0 MB/s eta 0:00:01\r\u001b[K     |█████████████████████████▉      | 1.4 MB 14.0 MB/s eta 0:00:01\r\u001b[K     |██████████████████████████      | 1.4 MB 14.0 MB/s eta 0:00:01\r\u001b[K     |██████████████████████████▎     | 1.4 MB 14.0 MB/s eta 0:00:01\r\u001b[K     |██████████████████████████▍     | 1.4 MB 14.0 MB/s eta 0:00:01\r\u001b[K     |██████████████████████████▋     | 1.4 MB 14.0 MB/s eta 0:00:01\r\u001b[K     |██████████████████████████▉     | 1.4 MB 14.0 MB/s eta 0:00:01\r\u001b[K     |███████████████████████████     | 1.4 MB 14.0 MB/s eta 0:00:01\r\u001b[K     |███████████████████████████▏    | 1.5 MB 14.0 MB/s eta 0:00:01\r\u001b[K     |███████████████████████████▍    | 1.5 MB 14.0 MB/s eta 0:00:01\r\u001b[K     |███████████████████████████▋    | 1.5 MB 14.0 MB/s eta 0:00:01\r\u001b[K     |███████████████████████████▉    | 1.5 MB 14.0 MB/s eta 0:00:01\r\u001b[K     |████████████████████████████    | 1.5 MB 14.0 MB/s eta 0:00:01\r\u001b[K     |████████████████████████████▏   | 1.5 MB 14.0 MB/s eta 0:00:01\r\u001b[K     |████████████████████████████▍   | 1.5 MB 14.0 MB/s eta 0:00:01\r\u001b[K     |████████████████████████████▌   | 1.5 MB 14.0 MB/s eta 0:00:01\r\u001b[K     |████████████████████████████▊   | 1.5 MB 14.0 MB/s eta 0:00:01\r\u001b[K     |█████████████████████████████   | 1.5 MB 14.0 MB/s eta 0:00:01\r\u001b[K     |█████████████████████████████▏  | 1.6 MB 14.0 MB/s eta 0:00:01\r\u001b[K     |█████████████████████████████▎  | 1.6 MB 14.0 MB/s eta 0:00:01\r\u001b[K     |█████████████████████████████▌  | 1.6 MB 14.0 MB/s eta 0:00:01\r\u001b[K     |█████████████████████████████▊  | 1.6 MB 14.0 MB/s eta 0:00:01\r\u001b[K     |█████████████████████████████▉  | 1.6 MB 14.0 MB/s eta 0:00:01\r\u001b[K     |██████████████████████████████  | 1.6 MB 14.0 MB/s eta 0:00:01\r\u001b[K     |██████████████████████████████▎ | 1.6 MB 14.0 MB/s eta 0:00:01\r\u001b[K     |██████████████████████████████▌ | 1.6 MB 14.0 MB/s eta 0:00:01\r\u001b[K     |██████████████████████████████▋ | 1.6 MB 14.0 MB/s eta 0:00:01\r\u001b[K     |██████████████████████████████▉ | 1.6 MB 14.0 MB/s eta 0:00:01\r\u001b[K     |███████████████████████████████ | 1.7 MB 14.0 MB/s eta 0:00:01\r\u001b[K     |███████████████████████████████▎| 1.7 MB 14.0 MB/s eta 0:00:01\r\u001b[K     |███████████████████████████████▍| 1.7 MB 14.0 MB/s eta 0:00:01\r\u001b[K     |███████████████████████████████▋| 1.7 MB 14.0 MB/s eta 0:00:01\r\u001b[K     |███████████████████████████████▉| 1.7 MB 14.0 MB/s eta 0:00:01\r\u001b[K     |████████████████████████████████| 1.7 MB 14.0 MB/s eta 0:00:01\r\u001b[K     |████████████████████████████████| 1.7 MB 14.0 MB/s \n",
            "\u001b[?25hRequirement already satisfied: scipy>=0.19.1 in /usr/local/lib/python3.7/dist-packages (from scikit-learn-extra) (1.4.1)\n",
            "Requirement already satisfied: scikit-learn>=0.23.0 in /usr/local/lib/python3.7/dist-packages (from scikit-learn-extra) (1.0.1)\n",
            "Requirement already satisfied: numpy>=1.13.3 in /usr/local/lib/python3.7/dist-packages (from scikit-learn-extra) (1.19.5)\n",
            "Requirement already satisfied: joblib>=0.11 in /usr/local/lib/python3.7/dist-packages (from scikit-learn>=0.23.0->scikit-learn-extra) (1.1.0)\n",
            "Requirement already satisfied: threadpoolctl>=2.0.0 in /usr/local/lib/python3.7/dist-packages (from scikit-learn>=0.23.0->scikit-learn-extra) (3.0.0)\n",
            "Installing collected packages: scikit-learn-extra\n",
            "Successfully installed scikit-learn-extra-0.2.0\n"
          ]
        }
      ]
    },
    {
      "cell_type": "code",
      "metadata": {
        "id": "ahBu1TugY-fZ"
      },
      "source": [
        "#import library yang digunakan untuk clustering\n",
        "import numpy as np\n",
        "import matplotlib.pyplot as plt\n",
        "import seaborn as sns\n",
        "import pandas as pd\n",
        "from sklearn.cluster import KMeans\n",
        "from sklearn_extra.cluster import KMedoids\n",
        "from sklearn.preprocessing import MinMaxScaler"
      ],
      "execution_count": null,
      "outputs": []
    },
    {
      "cell_type": "code",
      "metadata": {
        "id": "U11PRIqeqCaS",
        "colab": {
          "base_uri": "https://localhost:8080/",
          "height": 206
        },
        "outputId": "e3835ac5-ef07-42b0-d785-f8cdf186ea75"
      },
      "source": [
        "dataframe = pd.read_csv(\"https://drive.google.com/uc?export=download&id=1WySfFNB2nZp-W_hGgTL76EGCwUe-8ykL\")\n",
        "dataframe.head()"
      ],
      "execution_count": null,
      "outputs": [
        {
          "output_type": "execute_result",
          "data": {
            "text/html": [
              "<div>\n",
              "<style scoped>\n",
              "    .dataframe tbody tr th:only-of-type {\n",
              "        vertical-align: middle;\n",
              "    }\n",
              "\n",
              "    .dataframe tbody tr th {\n",
              "        vertical-align: top;\n",
              "    }\n",
              "\n",
              "    .dataframe thead th {\n",
              "        text-align: right;\n",
              "    }\n",
              "</style>\n",
              "<table border=\"1\" class=\"dataframe\">\n",
              "  <thead>\n",
              "    <tr style=\"text-align: right;\">\n",
              "      <th></th>\n",
              "      <th>No.</th>\n",
              "      <th>Inisial</th>\n",
              "      <th>Nama Nasabah</th>\n",
              "      <th>Asuransi Kebakaran</th>\n",
              "      <th>Asuransi Kecelakaan</th>\n",
              "      <th>Asuransi Kesehatan</th>\n",
              "    </tr>\n",
              "  </thead>\n",
              "  <tbody>\n",
              "    <tr>\n",
              "      <th>0</th>\n",
              "      <td>1</td>\n",
              "      <td>P1</td>\n",
              "      <td>Sari Adelia</td>\n",
              "      <td>1</td>\n",
              "      <td>3</td>\n",
              "      <td>2</td>\n",
              "    </tr>\n",
              "    <tr>\n",
              "      <th>1</th>\n",
              "      <td>2</td>\n",
              "      <td>P2</td>\n",
              "      <td>Fransiska</td>\n",
              "      <td>1</td>\n",
              "      <td>1</td>\n",
              "      <td>4</td>\n",
              "    </tr>\n",
              "    <tr>\n",
              "      <th>2</th>\n",
              "      <td>3</td>\n",
              "      <td>P3</td>\n",
              "      <td>Immanuel</td>\n",
              "      <td>2</td>\n",
              "      <td>4</td>\n",
              "      <td>5</td>\n",
              "    </tr>\n",
              "    <tr>\n",
              "      <th>3</th>\n",
              "      <td>4</td>\n",
              "      <td>P4</td>\n",
              "      <td>Lisda</td>\n",
              "      <td>3</td>\n",
              "      <td>3</td>\n",
              "      <td>1</td>\n",
              "    </tr>\n",
              "    <tr>\n",
              "      <th>4</th>\n",
              "      <td>5</td>\n",
              "      <td>P5</td>\n",
              "      <td>Mhd. Andy</td>\n",
              "      <td>2</td>\n",
              "      <td>1</td>\n",
              "      <td>4</td>\n",
              "    </tr>\n",
              "  </tbody>\n",
              "</table>\n",
              "</div>"
            ],
            "text/plain": [
              "   No. Inisial  ... Asuransi Kecelakaan  Asuransi Kesehatan\n",
              "0    1      P1  ...                   3                   2\n",
              "1    2      P2  ...                   1                   4\n",
              "2    3      P3  ...                   4                   5\n",
              "3    4      P4  ...                   3                   1\n",
              "4    5      P5  ...                   1                   4\n",
              "\n",
              "[5 rows x 6 columns]"
            ]
          },
          "metadata": {},
          "execution_count": 3
        }
      ]
    },
    {
      "cell_type": "code",
      "metadata": {
        "id": "ZM7gt1d1zPAv",
        "colab": {
          "base_uri": "https://localhost:8080/"
        },
        "outputId": "49c196c7-bb06-49b8-9ecc-3a39fa0e0e00"
      },
      "source": [
        "dataframe.info()"
      ],
      "execution_count": null,
      "outputs": [
        {
          "output_type": "stream",
          "name": "stdout",
          "text": [
            "<class 'pandas.core.frame.DataFrame'>\n",
            "RangeIndex: 55 entries, 0 to 54\n",
            "Data columns (total 6 columns):\n",
            " #   Column               Non-Null Count  Dtype \n",
            "---  ------               --------------  ----- \n",
            " 0   No.                  55 non-null     int64 \n",
            " 1   Inisial              55 non-null     object\n",
            " 2   Nama Nasabah         55 non-null     object\n",
            " 3   Asuransi Kebakaran   55 non-null     int64 \n",
            " 4   Asuransi Kecelakaan  55 non-null     int64 \n",
            " 5   Asuransi Kesehatan   55 non-null     int64 \n",
            "dtypes: int64(4), object(2)\n",
            "memory usage: 2.7+ KB\n"
          ]
        }
      ]
    },
    {
      "cell_type": "code",
      "metadata": {
        "colab": {
          "base_uri": "https://localhost:8080/",
          "height": 206
        },
        "id": "iKBBJUiiVxl_",
        "outputId": "0437d099-d852-465f-de0e-d98cf444df8e"
      },
      "source": [
        "df = dataframe.drop([\"No.\",\"Inisial\",\"Nama Nasabah\"], axis=1)\n",
        "df.head()"
      ],
      "execution_count": null,
      "outputs": [
        {
          "output_type": "execute_result",
          "data": {
            "text/html": [
              "<div>\n",
              "<style scoped>\n",
              "    .dataframe tbody tr th:only-of-type {\n",
              "        vertical-align: middle;\n",
              "    }\n",
              "\n",
              "    .dataframe tbody tr th {\n",
              "        vertical-align: top;\n",
              "    }\n",
              "\n",
              "    .dataframe thead th {\n",
              "        text-align: right;\n",
              "    }\n",
              "</style>\n",
              "<table border=\"1\" class=\"dataframe\">\n",
              "  <thead>\n",
              "    <tr style=\"text-align: right;\">\n",
              "      <th></th>\n",
              "      <th>Asuransi Kebakaran</th>\n",
              "      <th>Asuransi Kecelakaan</th>\n",
              "      <th>Asuransi Kesehatan</th>\n",
              "    </tr>\n",
              "  </thead>\n",
              "  <tbody>\n",
              "    <tr>\n",
              "      <th>0</th>\n",
              "      <td>1</td>\n",
              "      <td>3</td>\n",
              "      <td>2</td>\n",
              "    </tr>\n",
              "    <tr>\n",
              "      <th>1</th>\n",
              "      <td>1</td>\n",
              "      <td>1</td>\n",
              "      <td>4</td>\n",
              "    </tr>\n",
              "    <tr>\n",
              "      <th>2</th>\n",
              "      <td>2</td>\n",
              "      <td>4</td>\n",
              "      <td>5</td>\n",
              "    </tr>\n",
              "    <tr>\n",
              "      <th>3</th>\n",
              "      <td>3</td>\n",
              "      <td>3</td>\n",
              "      <td>1</td>\n",
              "    </tr>\n",
              "    <tr>\n",
              "      <th>4</th>\n",
              "      <td>2</td>\n",
              "      <td>1</td>\n",
              "      <td>4</td>\n",
              "    </tr>\n",
              "  </tbody>\n",
              "</table>\n",
              "</div>"
            ],
            "text/plain": [
              "   Asuransi Kebakaran  Asuransi Kecelakaan  Asuransi Kesehatan\n",
              "0                   1                    3                   2\n",
              "1                   1                    1                   4\n",
              "2                   2                    4                   5\n",
              "3                   3                    3                   1\n",
              "4                   2                    1                   4"
            ]
          },
          "metadata": {},
          "execution_count": 5
        }
      ]
    },
    {
      "cell_type": "code",
      "metadata": {
        "colab": {
          "base_uri": "https://localhost:8080/",
          "height": 206
        },
        "id": "mjaMfVzQdTlw",
        "outputId": "41e87020-6461-4ca3-8b28-01b1049ff27b"
      },
      "source": [
        "df_x = df.iloc[:, 0:3]\n",
        "df_x.head()"
      ],
      "execution_count": null,
      "outputs": [
        {
          "output_type": "execute_result",
          "data": {
            "text/html": [
              "<div>\n",
              "<style scoped>\n",
              "    .dataframe tbody tr th:only-of-type {\n",
              "        vertical-align: middle;\n",
              "    }\n",
              "\n",
              "    .dataframe tbody tr th {\n",
              "        vertical-align: top;\n",
              "    }\n",
              "\n",
              "    .dataframe thead th {\n",
              "        text-align: right;\n",
              "    }\n",
              "</style>\n",
              "<table border=\"1\" class=\"dataframe\">\n",
              "  <thead>\n",
              "    <tr style=\"text-align: right;\">\n",
              "      <th></th>\n",
              "      <th>Asuransi Kebakaran</th>\n",
              "      <th>Asuransi Kecelakaan</th>\n",
              "      <th>Asuransi Kesehatan</th>\n",
              "    </tr>\n",
              "  </thead>\n",
              "  <tbody>\n",
              "    <tr>\n",
              "      <th>0</th>\n",
              "      <td>1</td>\n",
              "      <td>3</td>\n",
              "      <td>2</td>\n",
              "    </tr>\n",
              "    <tr>\n",
              "      <th>1</th>\n",
              "      <td>1</td>\n",
              "      <td>1</td>\n",
              "      <td>4</td>\n",
              "    </tr>\n",
              "    <tr>\n",
              "      <th>2</th>\n",
              "      <td>2</td>\n",
              "      <td>4</td>\n",
              "      <td>5</td>\n",
              "    </tr>\n",
              "    <tr>\n",
              "      <th>3</th>\n",
              "      <td>3</td>\n",
              "      <td>3</td>\n",
              "      <td>1</td>\n",
              "    </tr>\n",
              "    <tr>\n",
              "      <th>4</th>\n",
              "      <td>2</td>\n",
              "      <td>1</td>\n",
              "      <td>4</td>\n",
              "    </tr>\n",
              "  </tbody>\n",
              "</table>\n",
              "</div>"
            ],
            "text/plain": [
              "   Asuransi Kebakaran  Asuransi Kecelakaan  Asuransi Kesehatan\n",
              "0                   1                    3                   2\n",
              "1                   1                    1                   4\n",
              "2                   2                    4                   5\n",
              "3                   3                    3                   1\n",
              "4                   2                    1                   4"
            ]
          },
          "metadata": {},
          "execution_count": 6
        }
      ]
    },
    {
      "cell_type": "code",
      "metadata": {
        "colab": {
          "base_uri": "https://localhost:8080/",
          "height": 279
        },
        "id": "Vlqbwcn9bQQa",
        "outputId": "e6c32477-b1ec-453e-cc14-5d6c3ca69da4"
      },
      "source": [
        "sns.scatterplot(x=\"Asuransi Kebakaran\", y=\"Asuransi Kesehatan\", data=df, s=100, color=\"red\", alpha=0.5)\n",
        "plt.show()\n",
        "#kayaknya ntar gausa"
      ],
      "execution_count": null,
      "outputs": [
        {
          "output_type": "display_data",
          "data": {
            "image/png": "[encoded data removed]",
            "text/plain": [
              "<Figure size 432x288 with 1 Axes>"
            ]
          },
          "metadata": {
            "needs_background": "light"
          }
        }
      ]
    },
    {
      "cell_type": "code",
      "metadata": {
        "colab": {
          "base_uri": "https://localhost:8080/"
        },
        "id": "nIBnjumKeQDS",
        "outputId": "53b5a1fd-7047-428a-d20f-62d96295a8a8"
      },
      "source": [
        "x_array = np.array(df_x)\n",
        "print(x_array)"
      ],
      "execution_count": null,
      "outputs": [
        {
          "output_type": "stream",
          "name": "stdout",
          "text": [
            "[[1 3 2]\n",
            " [1 1 4]\n",
            " [2 4 5]\n",
            " [3 3 1]\n",
            " [2 1 4]\n",
            " [2 2 1]\n",
            " [1 1 1]\n",
            " [1 5 3]\n",
            " [3 5 2]\n",
            " [4 2 3]\n",
            " [2 2 2]\n",
            " [3 3 1]\n",
            " [4 5 3]\n",
            " [4 4 2]\n",
            " [3 5 5]\n",
            " [3 4 5]\n",
            " [1 1 4]\n",
            " [2 5 5]\n",
            " [5 3 3]\n",
            " [2 1 5]\n",
            " [1 1 4]\n",
            " [4 5 5]\n",
            " [3 4 5]\n",
            " [1 1 1]\n",
            " [2 5 5]\n",
            " [1 1 1]\n",
            " [5 5 5]\n",
            " [3 1 3]\n",
            " [2 1 5]\n",
            " [1 2 1]\n",
            " [1 1 3]\n",
            " [2 5 5]\n",
            " [3 5 5]\n",
            " [9 3 2]\n",
            " [5 7 8]\n",
            " [2 4 6]\n",
            " [3 8 3]\n",
            " [1 6 1]\n",
            " [2 5 5]\n",
            " [5 5 5]\n",
            " [4 5 5]\n",
            " [3 7 8]\n",
            " [2 4 6]\n",
            " [2 5 5]\n",
            " [3 6 3]\n",
            " [2 1 5]\n",
            " [1 3 1]\n",
            " [4 1 1]\n",
            " [7 5 5]\n",
            " [3 5 2]\n",
            " [2 5 5]\n",
            " [3 5 3]\n",
            " [7 9 8]\n",
            " [2 4 6]\n",
            " [3 6 6]]\n"
          ]
        }
      ]
    },
    {
      "cell_type": "code",
      "metadata": {
        "colab": {
          "base_uri": "https://localhost:8080/"
        },
        "id": "EitNYXCygBMY",
        "outputId": "f1f818c2-70d9-4874-8aef-255abbaedb4c"
      },
      "source": [
        "scaler = MinMaxScaler()\n",
        "x_scaled = scaler.fit_transform(x_array)\n",
        "x_scaled"
      ],
      "execution_count": null,
      "outputs": [
        {
          "output_type": "execute_result",
          "data": {
            "text/plain": [
              "array([[0.        , 0.25      , 0.14285714],\n",
              "       [0.        , 0.        , 0.42857143],\n",
              "       [0.125     , 0.375     , 0.57142857],\n",
              "       [0.25      , 0.25      , 0.        ],\n",
              "       [0.125     , 0.        , 0.42857143],\n",
              "       [0.125     , 0.125     , 0.        ],\n",
              "       [0.        , 0.        , 0.        ],\n",
              "       [0.        , 0.5       , 0.28571429],\n",
              "       [0.25      , 0.5       , 0.14285714],\n",
              "       [0.375     , 0.125     , 0.28571429],\n",
              "       [0.125     , 0.125     , 0.14285714],\n",
              "       [0.25      , 0.25      , 0.        ],\n",
              "       [0.375     , 0.5       , 0.28571429],\n",
              "       [0.375     , 0.375     , 0.14285714],\n",
              "       [0.25      , 0.5       , 0.57142857],\n",
              "       [0.25      , 0.375     , 0.57142857],\n",
              "       [0.        , 0.        , 0.42857143],\n",
              "       [0.125     , 0.5       , 0.57142857],\n",
              "       [0.5       , 0.25      , 0.28571429],\n",
              "       [0.125     , 0.        , 0.57142857],\n",
              "       [0.        , 0.        , 0.42857143],\n",
              "       [0.375     , 0.5       , 0.57142857],\n",
              "       [0.25      , 0.375     , 0.57142857],\n",
              "       [0.        , 0.        , 0.        ],\n",
              "       [0.125     , 0.5       , 0.57142857],\n",
              "       [0.        , 0.        , 0.        ],\n",
              "       [0.5       , 0.5       , 0.57142857],\n",
              "       [0.25      , 0.        , 0.28571429],\n",
              "       [0.125     , 0.        , 0.57142857],\n",
              "       [0.        , 0.125     , 0.        ],\n",
              "       [0.        , 0.        , 0.28571429],\n",
              "       [0.125     , 0.5       , 0.57142857],\n",
              "       [0.25      , 0.5       , 0.57142857],\n",
              "       [1.        , 0.25      , 0.14285714],\n",
              "       [0.5       , 0.75      , 1.        ],\n",
              "       [0.125     , 0.375     , 0.71428571],\n",
              "       [0.25      , 0.875     , 0.28571429],\n",
              "       [0.        , 0.625     , 0.        ],\n",
              "       [0.125     , 0.5       , 0.57142857],\n",
              "       [0.5       , 0.5       , 0.57142857],\n",
              "       [0.375     , 0.5       , 0.57142857],\n",
              "       [0.25      , 0.75      , 1.        ],\n",
              "       [0.125     , 0.375     , 0.71428571],\n",
              "       [0.125     , 0.5       , 0.57142857],\n",
              "       [0.25      , 0.625     , 0.28571429],\n",
              "       [0.125     , 0.        , 0.57142857],\n",
              "       [0.        , 0.25      , 0.        ],\n",
              "       [0.375     , 0.        , 0.        ],\n",
              "       [0.75      , 0.5       , 0.57142857],\n",
              "       [0.25      , 0.5       , 0.14285714],\n",
              "       [0.125     , 0.5       , 0.57142857],\n",
              "       [0.25      , 0.5       , 0.28571429],\n",
              "       [0.75      , 1.        , 1.        ],\n",
              "       [0.125     , 0.375     , 0.71428571],\n",
              "       [0.25      , 0.625     , 0.71428571]])"
            ]
          },
          "metadata": {},
          "execution_count": 10
        }
      ]
    },
    {
      "cell_type": "markdown",
      "metadata": {
        "id": "T60VoWMhoEYb"
      },
      "source": [
        "**K-Means**"
      ]
    },
    {
      "cell_type": "code",
      "metadata": {
        "id": "Qjpe10SGh5MK"
      },
      "source": [
        "#Menentukan dan mengkonfigurasi fungsi kmeans\n",
        "kmeans = KMeans(n_clusters = 3, random_state=123)"
      ],
      "execution_count": null,
      "outputs": []
    },
    {
      "cell_type": "code",
      "metadata": {
        "colab": {
          "base_uri": "https://localhost:8080/"
        },
        "id": "XEPNFB7WibqZ",
        "outputId": "1df97181-6eeb-4b47-eea4-e43528498554"
      },
      "source": [
        "#Menentukan kluster dari data\n",
        "kmeans.fit(x_scaled)\n",
        "print(kmeans.cluster_centers_)"
      ],
      "execution_count": null,
      "outputs": [
        {
          "output_type": "stream",
          "name": "stdout",
          "text": [
            "[[0.2826087  0.51630435 0.65217391]\n",
            " [0.09210526 0.05263158 0.2406015 ]\n",
            " [0.30769231 0.46153846 0.17582418]]\n"
          ]
        }
      ]
    },
    {
      "cell_type": "code",
      "metadata": {
        "colab": {
          "base_uri": "https://localhost:8080/",
          "height": 206
        },
        "id": "ETGecHsLjByg",
        "outputId": "44acdd96-1c77-4d40-aeda-6d4defdfb5c5"
      },
      "source": [
        "#Menambahkan kolom kluster dalam data frame \n",
        "df[\"kluster\"] = kmeans.labels_\n",
        "df.head()"
      ],
      "execution_count": null,
      "outputs": [
        {
          "output_type": "execute_result",
          "data": {
            "text/html": [
              "<div>\n",
              "<style scoped>\n",
              "    .dataframe tbody tr th:only-of-type {\n",
              "        vertical-align: middle;\n",
              "    }\n",
              "\n",
              "    .dataframe tbody tr th {\n",
              "        vertical-align: top;\n",
              "    }\n",
              "\n",
              "    .dataframe thead th {\n",
              "        text-align: right;\n",
              "    }\n",
              "</style>\n",
              "<table border=\"1\" class=\"dataframe\">\n",
              "  <thead>\n",
              "    <tr style=\"text-align: right;\">\n",
              "      <th></th>\n",
              "      <th>Asuransi Kebakaran</th>\n",
              "      <th>Asuransi Kecelakaan</th>\n",
              "      <th>Asuransi Kesehatan</th>\n",
              "      <th>kluster</th>\n",
              "    </tr>\n",
              "  </thead>\n",
              "  <tbody>\n",
              "    <tr>\n",
              "      <th>0</th>\n",
              "      <td>1</td>\n",
              "      <td>3</td>\n",
              "      <td>2</td>\n",
              "      <td>1</td>\n",
              "    </tr>\n",
              "    <tr>\n",
              "      <th>1</th>\n",
              "      <td>1</td>\n",
              "      <td>1</td>\n",
              "      <td>4</td>\n",
              "      <td>1</td>\n",
              "    </tr>\n",
              "    <tr>\n",
              "      <th>2</th>\n",
              "      <td>2</td>\n",
              "      <td>4</td>\n",
              "      <td>5</td>\n",
              "      <td>0</td>\n",
              "    </tr>\n",
              "    <tr>\n",
              "      <th>3</th>\n",
              "      <td>3</td>\n",
              "      <td>3</td>\n",
              "      <td>1</td>\n",
              "      <td>2</td>\n",
              "    </tr>\n",
              "    <tr>\n",
              "      <th>4</th>\n",
              "      <td>2</td>\n",
              "      <td>1</td>\n",
              "      <td>4</td>\n",
              "      <td>1</td>\n",
              "    </tr>\n",
              "  </tbody>\n",
              "</table>\n",
              "</div>"
            ],
            "text/plain": [
              "   Asuransi Kebakaran  Asuransi Kecelakaan  Asuransi Kesehatan  kluster\n",
              "0                   1                    3                   2        1\n",
              "1                   1                    1                   4        1\n",
              "2                   2                    4                   5        0\n",
              "3                   3                    3                   1        2\n",
              "4                   2                    1                   4        1"
            ]
          },
          "metadata": {},
          "execution_count": 13
        }
      ]
    },
    {
      "cell_type": "code",
      "metadata": {
        "colab": {
          "base_uri": "https://localhost:8080/"
        },
        "id": "rVNOiVudjlMi",
        "outputId": "2d370b96-4324-4400-92f5-d2223c80b9c7"
      },
      "source": [
        "#Menampilkan hasil kluster\n",
        "print(kmeans.labels_)"
      ],
      "execution_count": null,
      "outputs": [
        {
          "output_type": "stream",
          "name": "stdout",
          "text": [
            "[1 1 0 2 1 1 1 2 2 1 1 2 2 2 0 0 1 0 2 1 1 0 0 1 0 1 0 1 1 1 1 0 0 2 0 0 2\n",
            " 2 0 0 0 0 0 0 2 1 1 1 0 2 0 2 0 0 0]\n"
          ]
        }
      ]
    },
    {
      "cell_type": "code",
      "metadata": {
        "colab": {
          "base_uri": "https://localhost:8080/"
        },
        "id": "PdWVsmA8j8eT",
        "outputId": "d268531c-9f27-4074-87a5-5319741b6b6b"
      },
      "source": [
        "print(df.kluster)"
      ],
      "execution_count": null,
      "outputs": [
        {
          "output_type": "stream",
          "name": "stdout",
          "text": [
            "0     1\n",
            "1     1\n",
            "2     0\n",
            "3     2\n",
            "4     1\n",
            "5     1\n",
            "6     1\n",
            "7     2\n",
            "8     2\n",
            "9     1\n",
            "10    1\n",
            "11    2\n",
            "12    2\n",
            "13    2\n",
            "14    0\n",
            "15    0\n",
            "16    1\n",
            "17    0\n",
            "18    2\n",
            "19    1\n",
            "20    1\n",
            "21    0\n",
            "22    0\n",
            "23    1\n",
            "24    0\n",
            "25    1\n",
            "26    0\n",
            "27    1\n",
            "28    1\n",
            "29    1\n",
            "30    1\n",
            "31    0\n",
            "32    0\n",
            "33    2\n",
            "34    0\n",
            "35    0\n",
            "36    2\n",
            "37    2\n",
            "38    0\n",
            "39    0\n",
            "40    0\n",
            "41    0\n",
            "42    0\n",
            "43    0\n",
            "44    2\n",
            "45    1\n",
            "46    1\n",
            "47    1\n",
            "48    0\n",
            "49    2\n",
            "50    0\n",
            "51    2\n",
            "52    0\n",
            "53    0\n",
            "54    0\n",
            "Name: kluster, dtype: int32\n"
          ]
        }
      ]
    },
    {
      "cell_type": "code",
      "metadata": {
        "colab": {
          "base_uri": "https://localhost:8080/",
          "height": 285
        },
        "id": "PyRnERtIm5Y9",
        "outputId": "7db12b6f-0b70-49c6-f30b-80e443a3b329"
      },
      "source": [
        "#Memvisualisasi hasil cluster\n",
        "output = plt.scatter(x_scaled[:,0], x_scaled[:,1], s=100, c=df.kluster, marker=\"o\", alpha=0.5)\n",
        "centers = kmeans.cluster_centers_\n",
        "plt.scatter(centers[:,0], centers[:,1], c='red', s=200, alpha=0.5)\n",
        "plt.title(\"Hasil Clustering K-Means\", size=18)\n",
        "plt.colorbar(output)\n",
        "plt.show()\n",
        "#yang ini dipakai"
      ],
      "execution_count": null,
      "outputs": [
        {
          "output_type": "display_data",
          "data": {
            "image/png": "[encoded data removed]",
            "text/plain": [
              "<Figure size 432x288 with 2 Axes>"
            ]
          },
          "metadata": {
            "needs_background": "light"
          }
        }
      ]
    },
    {
      "cell_type": "markdown",
      "metadata": {
        "id": "bvC4LiEt_NQG"
      },
      "source": [
        "note\n",
        "interpretasi:\n",
        "merah -> centroid\n",
        "ungu -> cluster 1\n",
        "kuning -> cluster 2\n",
        "hijau -> cluster 3"
      ]
    },
    {
      "cell_type": "markdown",
      "metadata": {
        "id": "hy0audvjoZQG"
      },
      "source": [
        "**K-Medoids**"
      ]
    },
    {
      "cell_type": "code",
      "metadata": {
        "colab": {
          "base_uri": "https://localhost:8080/"
        },
        "id": "4BQjYu6iog_a",
        "outputId": "333f89d3-025f-4d37-b700-30d0a7d7e375"
      },
      "source": [
        "#Mengelompokkan data menjadi 3 cluster\n",
        "kmedoids = KMedoids(n_clusters=3, random_state=123)\n",
        "\n",
        "#Menentukan nilai cluster K dari data\n",
        "kmedoids.fit(x_scaled)\n",
        "\n",
        "#Menampilkan centroid\n",
        "print(kmedoids.cluster_centers_)"
      ],
      "execution_count": null,
      "outputs": [
        {
          "output_type": "stream",
          "name": "stdout",
          "text": [
            "[[0.375      0.5        0.57142857]\n",
            " [0.125      0.125      0.14285714]\n",
            " [0.125      0.5        0.57142857]]\n"
          ]
        },
        {
          "output_type": "stream",
          "name": "stderr",
          "text": [
            "/usr/local/lib/python3.7/dist-packages/sklearn_extra/cluster/_k_medoids.py:279: UserWarning: Cluster 1 is empty! self.labels_[self.medoid_indices_[1]] may not be labeled with its corresponding cluster (1).\n",
            "  \"its corresponding cluster ({k}).\".format(k=k)\n"
          ]
        }
      ]
    },
    {
      "cell_type": "code",
      "metadata": {
        "colab": {
          "base_uri": "https://localhost:8080/",
          "height": 285
        },
        "id": "dj1pUFCqsAOf",
        "outputId": "4dabe617-7d79-4816-b6b9-4b55f2b6621d"
      },
      "source": [
        "#Memvisualisasi hasil cluster\n",
        "output = plt.scatter(x_array[:,0], x_array[:,1], s=100, c= kmedoids.labels_, marker = \"o\", alpha = 0.5)\n",
        "centers = kmedoids.cluster_centers_\n",
        "plt.scatter(centers[:,0], centers[:,1], c='red', s=200, alpha=0.5, marker=\"o\")\n",
        "plt.title(\"Hasil Clustering K-Medoids\", size=18)\n",
        "plt.colorbar(output)\n",
        "plt.show()"
      ],
      "execution_count": null,
      "outputs": [
        {
          "output_type": "display_data",
          "data": {
            "image/png": "[encoded data removed]",
            "text/plain": [
              "<Figure size 432x288 with 2 Axes>"
            ]
          },
          "metadata": {
            "needs_background": "light"
          }
        }
      ]
    },
    {
      "cell_type": "code",
      "metadata": {
        "colab": {
          "base_uri": "https://localhost:8080/",
          "height": 281
        },
        "id": "4Hj_yBsautyx",
        "outputId": "9095752d-bbc5-4e92-a750-41afe9393a34"
      },
      "source": [
        "#Menambahkan kolom cluster\n",
        "df[\"cluster\"] = kmedoids.labels_\n",
        "\n",
        "#Memvisualisasi hasil cluster\n",
        "output = plt.scatter(x_scaled[:,0], x_scaled[:,1], s = 100, c= df[\"cluster\"], marker = \"o\", alpha = 0.5)\n",
        "centers = kmedoids.cluster_centers_\n",
        "plt.scatter(centers[:,0], centers[:,1], c='red', s=200, alpha=0.5, marker=\"o\")\n",
        "plt.title(\"Hasil Klustering K-Medoids\")\n",
        "plt.colorbar(output)\n",
        "plt.show()"
      ],
      "execution_count": null,
      "outputs": [
        {
          "output_type": "display_data",
          "data": {
            "image/png": "[encoded data removed]",
            "text/plain": [
              "<Figure size 432x288 with 2 Axes>"
            ]
          },
          "metadata": {
            "needs_background": "light"
          }
        }
      ]
    },
    {
      "cell_type": "code",
      "metadata": {
        "colab": {
          "base_uri": "https://localhost:8080/",
          "height": 1000
        },
        "id": "22r87eGM_7rR",
        "outputId": "4f146ea2-462c-45c9-b111-2622728f9fdc"
      },
      "source": [
        "dataframe"
      ],
      "execution_count": null,
      "outputs": [
        {
          "output_type": "execute_result",
          "data": {
            "text/html": [
              "<div>\n",
              "<style scoped>\n",
              "    .dataframe tbody tr th:only-of-type {\n",
              "        vertical-align: middle;\n",
              "    }\n",
              "\n",
              "    .dataframe tbody tr th {\n",
              "        vertical-align: top;\n",
              "    }\n",
              "\n",
              "    .dataframe thead th {\n",
              "        text-align: right;\n",
              "    }\n",
              "</style>\n",
              "<table border=\"1\" class=\"dataframe\">\n",
              "  <thead>\n",
              "    <tr style=\"text-align: right;\">\n",
              "      <th></th>\n",
              "      <th>No.</th>\n",
              "      <th>Inisial</th>\n",
              "      <th>Nama Nasabah</th>\n",
              "      <th>Asuransi Kebakaran</th>\n",
              "      <th>Asuransi Kecelakaan</th>\n",
              "      <th>Asuransi Kesehatan</th>\n",
              "    </tr>\n",
              "  </thead>\n",
              "  <tbody>\n",
              "    <tr>\n",
              "      <th>0</th>\n",
              "      <td>1</td>\n",
              "      <td>P1</td>\n",
              "      <td>Sari Adelia</td>\n",
              "      <td>1</td>\n",
              "      <td>3</td>\n",
              "      <td>2</td>\n",
              "    </tr>\n",
              "    <tr>\n",
              "      <th>1</th>\n",
              "      <td>2</td>\n",
              "      <td>P2</td>\n",
              "      <td>Fransiska</td>\n",
              "      <td>1</td>\n",
              "      <td>1</td>\n",
              "      <td>4</td>\n",
              "    </tr>\n",
              "    <tr>\n",
              "      <th>2</th>\n",
              "      <td>3</td>\n",
              "      <td>P3</td>\n",
              "      <td>Immanuel</td>\n",
              "      <td>2</td>\n",
              "      <td>4</td>\n",
              "      <td>5</td>\n",
              "    </tr>\n",
              "    <tr>\n",
              "      <th>3</th>\n",
              "      <td>4</td>\n",
              "      <td>P4</td>\n",
              "      <td>Lisda</td>\n",
              "      <td>3</td>\n",
              "      <td>3</td>\n",
              "      <td>1</td>\n",
              "    </tr>\n",
              "    <tr>\n",
              "      <th>4</th>\n",
              "      <td>5</td>\n",
              "      <td>P5</td>\n",
              "      <td>Mhd. Andy</td>\n",
              "      <td>2</td>\n",
              "      <td>1</td>\n",
              "      <td>4</td>\n",
              "    </tr>\n",
              "    <tr>\n",
              "      <th>5</th>\n",
              "      <td>6</td>\n",
              "      <td>P6</td>\n",
              "      <td>Rizka</td>\n",
              "      <td>2</td>\n",
              "      <td>2</td>\n",
              "      <td>1</td>\n",
              "    </tr>\n",
              "    <tr>\n",
              "      <th>6</th>\n",
              "      <td>7</td>\n",
              "      <td>P7</td>\n",
              "      <td>Amalia</td>\n",
              "      <td>1</td>\n",
              "      <td>1</td>\n",
              "      <td>1</td>\n",
              "    </tr>\n",
              "    <tr>\n",
              "      <th>7</th>\n",
              "      <td>8</td>\n",
              "      <td>P8</td>\n",
              "      <td>Muhammad Yuda</td>\n",
              "      <td>1</td>\n",
              "      <td>5</td>\n",
              "      <td>3</td>\n",
              "    </tr>\n",
              "    <tr>\n",
              "      <th>8</th>\n",
              "      <td>9</td>\n",
              "      <td>P9</td>\n",
              "      <td>Wahyu</td>\n",
              "      <td>3</td>\n",
              "      <td>5</td>\n",
              "      <td>2</td>\n",
              "    </tr>\n",
              "    <tr>\n",
              "      <th>9</th>\n",
              "      <td>10</td>\n",
              "      <td>P10</td>\n",
              "      <td>Novri</td>\n",
              "      <td>4</td>\n",
              "      <td>2</td>\n",
              "      <td>3</td>\n",
              "    </tr>\n",
              "    <tr>\n",
              "      <th>10</th>\n",
              "      <td>11</td>\n",
              "      <td>P11</td>\n",
              "      <td>Viktor</td>\n",
              "      <td>2</td>\n",
              "      <td>2</td>\n",
              "      <td>2</td>\n",
              "    </tr>\n",
              "    <tr>\n",
              "      <th>11</th>\n",
              "      <td>12</td>\n",
              "      <td>P12</td>\n",
              "      <td>Winda</td>\n",
              "      <td>3</td>\n",
              "      <td>3</td>\n",
              "      <td>1</td>\n",
              "    </tr>\n",
              "    <tr>\n",
              "      <th>12</th>\n",
              "      <td>13</td>\n",
              "      <td>P13</td>\n",
              "      <td>Agung</td>\n",
              "      <td>4</td>\n",
              "      <td>5</td>\n",
              "      <td>3</td>\n",
              "    </tr>\n",
              "    <tr>\n",
              "      <th>13</th>\n",
              "      <td>14</td>\n",
              "      <td>P14</td>\n",
              "      <td>Eva santy</td>\n",
              "      <td>4</td>\n",
              "      <td>4</td>\n",
              "      <td>2</td>\n",
              "    </tr>\n",
              "    <tr>\n",
              "      <th>14</th>\n",
              "      <td>15</td>\n",
              "      <td>P15</td>\n",
              "      <td>Sarah</td>\n",
              "      <td>3</td>\n",
              "      <td>5</td>\n",
              "      <td>5</td>\n",
              "    </tr>\n",
              "    <tr>\n",
              "      <th>15</th>\n",
              "      <td>16</td>\n",
              "      <td>P16</td>\n",
              "      <td>Sherli</td>\n",
              "      <td>3</td>\n",
              "      <td>4</td>\n",
              "      <td>5</td>\n",
              "    </tr>\n",
              "    <tr>\n",
              "      <th>16</th>\n",
              "      <td>17</td>\n",
              "      <td>P17</td>\n",
              "      <td>Putri</td>\n",
              "      <td>1</td>\n",
              "      <td>1</td>\n",
              "      <td>4</td>\n",
              "    </tr>\n",
              "    <tr>\n",
              "      <th>17</th>\n",
              "      <td>18</td>\n",
              "      <td>P18</td>\n",
              "      <td>Rikardo</td>\n",
              "      <td>2</td>\n",
              "      <td>5</td>\n",
              "      <td>5</td>\n",
              "    </tr>\n",
              "    <tr>\n",
              "      <th>18</th>\n",
              "      <td>19</td>\n",
              "      <td>P19</td>\n",
              "      <td>Simon</td>\n",
              "      <td>5</td>\n",
              "      <td>3</td>\n",
              "      <td>3</td>\n",
              "    </tr>\n",
              "    <tr>\n",
              "      <th>19</th>\n",
              "      <td>20</td>\n",
              "      <td>P20</td>\n",
              "      <td>Wahyudi</td>\n",
              "      <td>2</td>\n",
              "      <td>1</td>\n",
              "      <td>5</td>\n",
              "    </tr>\n",
              "    <tr>\n",
              "      <th>20</th>\n",
              "      <td>21</td>\n",
              "      <td>P21</td>\n",
              "      <td>Yulina</td>\n",
              "      <td>1</td>\n",
              "      <td>1</td>\n",
              "      <td>4</td>\n",
              "    </tr>\n",
              "    <tr>\n",
              "      <th>21</th>\n",
              "      <td>22</td>\n",
              "      <td>P22</td>\n",
              "      <td>Andria</td>\n",
              "      <td>4</td>\n",
              "      <td>5</td>\n",
              "      <td>5</td>\n",
              "    </tr>\n",
              "    <tr>\n",
              "      <th>22</th>\n",
              "      <td>23</td>\n",
              "      <td>P23</td>\n",
              "      <td>Adillah</td>\n",
              "      <td>3</td>\n",
              "      <td>4</td>\n",
              "      <td>5</td>\n",
              "    </tr>\n",
              "    <tr>\n",
              "      <th>23</th>\n",
              "      <td>24</td>\n",
              "      <td>P24</td>\n",
              "      <td>Gusti</td>\n",
              "      <td>1</td>\n",
              "      <td>1</td>\n",
              "      <td>1</td>\n",
              "    </tr>\n",
              "    <tr>\n",
              "      <th>24</th>\n",
              "      <td>25</td>\n",
              "      <td>P25</td>\n",
              "      <td>Ikmal</td>\n",
              "      <td>2</td>\n",
              "      <td>5</td>\n",
              "      <td>5</td>\n",
              "    </tr>\n",
              "    <tr>\n",
              "      <th>25</th>\n",
              "      <td>26</td>\n",
              "      <td>P26</td>\n",
              "      <td>Iskandar</td>\n",
              "      <td>1</td>\n",
              "      <td>1</td>\n",
              "      <td>1</td>\n",
              "    </tr>\n",
              "    <tr>\n",
              "      <th>26</th>\n",
              "      <td>27</td>\n",
              "      <td>P27</td>\n",
              "      <td>Johannes</td>\n",
              "      <td>5</td>\n",
              "      <td>5</td>\n",
              "      <td>5</td>\n",
              "    </tr>\n",
              "    <tr>\n",
              "      <th>27</th>\n",
              "      <td>28</td>\n",
              "      <td>P28</td>\n",
              "      <td>Rizky Pratiwi</td>\n",
              "      <td>3</td>\n",
              "      <td>1</td>\n",
              "      <td>3</td>\n",
              "    </tr>\n",
              "    <tr>\n",
              "      <th>28</th>\n",
              "      <td>29</td>\n",
              "      <td>P29</td>\n",
              "      <td>Muhammad Ali</td>\n",
              "      <td>2</td>\n",
              "      <td>1</td>\n",
              "      <td>5</td>\n",
              "    </tr>\n",
              "    <tr>\n",
              "      <th>29</th>\n",
              "      <td>30</td>\n",
              "      <td>P30</td>\n",
              "      <td>Bob Cris</td>\n",
              "      <td>1</td>\n",
              "      <td>2</td>\n",
              "      <td>1</td>\n",
              "    </tr>\n",
              "    <tr>\n",
              "      <th>30</th>\n",
              "      <td>31</td>\n",
              "      <td>P31</td>\n",
              "      <td>Lenius</td>\n",
              "      <td>1</td>\n",
              "      <td>1</td>\n",
              "      <td>3</td>\n",
              "    </tr>\n",
              "    <tr>\n",
              "      <th>31</th>\n",
              "      <td>32</td>\n",
              "      <td>P32</td>\n",
              "      <td>Novalia</td>\n",
              "      <td>2</td>\n",
              "      <td>5</td>\n",
              "      <td>5</td>\n",
              "    </tr>\n",
              "    <tr>\n",
              "      <th>32</th>\n",
              "      <td>33</td>\n",
              "      <td>P33</td>\n",
              "      <td>Andi Prasetyo</td>\n",
              "      <td>3</td>\n",
              "      <td>5</td>\n",
              "      <td>5</td>\n",
              "    </tr>\n",
              "    <tr>\n",
              "      <th>33</th>\n",
              "      <td>34</td>\n",
              "      <td>P34</td>\n",
              "      <td>Nursany</td>\n",
              "      <td>9</td>\n",
              "      <td>3</td>\n",
              "      <td>2</td>\n",
              "    </tr>\n",
              "    <tr>\n",
              "      <th>34</th>\n",
              "      <td>35</td>\n",
              "      <td>P35</td>\n",
              "      <td>Silvia</td>\n",
              "      <td>5</td>\n",
              "      <td>7</td>\n",
              "      <td>8</td>\n",
              "    </tr>\n",
              "    <tr>\n",
              "      <th>35</th>\n",
              "      <td>36</td>\n",
              "      <td>P36</td>\n",
              "      <td>Suci Utari</td>\n",
              "      <td>2</td>\n",
              "      <td>4</td>\n",
              "      <td>6</td>\n",
              "    </tr>\n",
              "    <tr>\n",
              "      <th>36</th>\n",
              "      <td>37</td>\n",
              "      <td>P37</td>\n",
              "      <td>Zikri</td>\n",
              "      <td>3</td>\n",
              "      <td>8</td>\n",
              "      <td>3</td>\n",
              "    </tr>\n",
              "    <tr>\n",
              "      <th>37</th>\n",
              "      <td>38</td>\n",
              "      <td>P38</td>\n",
              "      <td>Rika Ertiana</td>\n",
              "      <td>1</td>\n",
              "      <td>6</td>\n",
              "      <td>1</td>\n",
              "    </tr>\n",
              "    <tr>\n",
              "      <th>38</th>\n",
              "      <td>39</td>\n",
              "      <td>P39</td>\n",
              "      <td>Hasan Siregar</td>\n",
              "      <td>2</td>\n",
              "      <td>5</td>\n",
              "      <td>5</td>\n",
              "    </tr>\n",
              "    <tr>\n",
              "      <th>39</th>\n",
              "      <td>40</td>\n",
              "      <td>P40</td>\n",
              "      <td>Eldini</td>\n",
              "      <td>5</td>\n",
              "      <td>5</td>\n",
              "      <td>5</td>\n",
              "    </tr>\n",
              "    <tr>\n",
              "      <th>40</th>\n",
              "      <td>41</td>\n",
              "      <td>P41</td>\n",
              "      <td>May Syarah</td>\n",
              "      <td>4</td>\n",
              "      <td>5</td>\n",
              "      <td>5</td>\n",
              "    </tr>\n",
              "    <tr>\n",
              "      <th>41</th>\n",
              "      <td>42</td>\n",
              "      <td>P42</td>\n",
              "      <td>Perdinan</td>\n",
              "      <td>3</td>\n",
              "      <td>7</td>\n",
              "      <td>8</td>\n",
              "    </tr>\n",
              "    <tr>\n",
              "      <th>42</th>\n",
              "      <td>43</td>\n",
              "      <td>P43</td>\n",
              "      <td>Ryan Dwi</td>\n",
              "      <td>2</td>\n",
              "      <td>4</td>\n",
              "      <td>6</td>\n",
              "    </tr>\n",
              "    <tr>\n",
              "      <th>43</th>\n",
              "      <td>44</td>\n",
              "      <td>P44</td>\n",
              "      <td>Melina Siregar</td>\n",
              "      <td>2</td>\n",
              "      <td>5</td>\n",
              "      <td>5</td>\n",
              "    </tr>\n",
              "    <tr>\n",
              "      <th>44</th>\n",
              "      <td>45</td>\n",
              "      <td>P45</td>\n",
              "      <td>Yoshi</td>\n",
              "      <td>3</td>\n",
              "      <td>6</td>\n",
              "      <td>3</td>\n",
              "    </tr>\n",
              "    <tr>\n",
              "      <th>45</th>\n",
              "      <td>46</td>\n",
              "      <td>P46</td>\n",
              "      <td>Lamlas</td>\n",
              "      <td>2</td>\n",
              "      <td>1</td>\n",
              "      <td>5</td>\n",
              "    </tr>\n",
              "    <tr>\n",
              "      <th>46</th>\n",
              "      <td>47</td>\n",
              "      <td>P47</td>\n",
              "      <td>Rumbi</td>\n",
              "      <td>1</td>\n",
              "      <td>3</td>\n",
              "      <td>1</td>\n",
              "    </tr>\n",
              "    <tr>\n",
              "      <th>47</th>\n",
              "      <td>48</td>\n",
              "      <td>P48</td>\n",
              "      <td>Dwi Ryan</td>\n",
              "      <td>4</td>\n",
              "      <td>1</td>\n",
              "      <td>1</td>\n",
              "    </tr>\n",
              "    <tr>\n",
              "      <th>48</th>\n",
              "      <td>49</td>\n",
              "      <td>P49</td>\n",
              "      <td>Yeremia</td>\n",
              "      <td>7</td>\n",
              "      <td>5</td>\n",
              "      <td>5</td>\n",
              "    </tr>\n",
              "    <tr>\n",
              "      <th>49</th>\n",
              "      <td>50</td>\n",
              "      <td>P50</td>\n",
              "      <td>Tigor Ginting</td>\n",
              "      <td>3</td>\n",
              "      <td>5</td>\n",
              "      <td>2</td>\n",
              "    </tr>\n",
              "    <tr>\n",
              "      <th>50</th>\n",
              "      <td>51</td>\n",
              "      <td>P51</td>\n",
              "      <td>Bela Sita</td>\n",
              "      <td>2</td>\n",
              "      <td>5</td>\n",
              "      <td>5</td>\n",
              "    </tr>\n",
              "    <tr>\n",
              "      <th>51</th>\n",
              "      <td>52</td>\n",
              "      <td>P52</td>\n",
              "      <td>Chandra</td>\n",
              "      <td>3</td>\n",
              "      <td>5</td>\n",
              "      <td>3</td>\n",
              "    </tr>\n",
              "    <tr>\n",
              "      <th>52</th>\n",
              "      <td>53</td>\n",
              "      <td>P53</td>\n",
              "      <td>Asri Riana</td>\n",
              "      <td>7</td>\n",
              "      <td>9</td>\n",
              "      <td>8</td>\n",
              "    </tr>\n",
              "    <tr>\n",
              "      <th>53</th>\n",
              "      <td>54</td>\n",
              "      <td>P54</td>\n",
              "      <td>Indah Putria</td>\n",
              "      <td>2</td>\n",
              "      <td>4</td>\n",
              "      <td>6</td>\n",
              "    </tr>\n",
              "    <tr>\n",
              "      <th>54</th>\n",
              "      <td>55</td>\n",
              "      <td>P55</td>\n",
              "      <td>Irwansyah</td>\n",
              "      <td>3</td>\n",
              "      <td>6</td>\n",
              "      <td>6</td>\n",
              "    </tr>\n",
              "  </tbody>\n",
              "</table>\n",
              "</div>"
            ],
            "text/plain": [
              "    No. Inisial  ... Asuransi Kecelakaan  Asuransi Kesehatan\n",
              "0     1      P1  ...                   3                   2\n",
              "1     2      P2  ...                   1                   4\n",
              "2     3      P3  ...                   4                   5\n",
              "3     4      P4  ...                   3                   1\n",
              "4     5      P5  ...                   1                   4\n",
              "5     6      P6  ...                   2                   1\n",
              "6     7      P7  ...                   1                   1\n",
              "7     8      P8  ...                   5                   3\n",
              "8     9      P9  ...                   5                   2\n",
              "9    10     P10  ...                   2                   3\n",
              "10   11     P11  ...                   2                   2\n",
              "11   12     P12  ...                   3                   1\n",
              "12   13     P13  ...                   5                   3\n",
              "13   14     P14  ...                   4                   2\n",
              "14   15     P15  ...                   5                   5\n",
              "15   16     P16  ...                   4                   5\n",
              "16   17     P17  ...                   1                   4\n",
              "17   18     P18  ...                   5                   5\n",
              "18   19     P19  ...                   3                   3\n",
              "19   20     P20  ...                   1                   5\n",
              "20   21     P21  ...                   1                   4\n",
              "21   22     P22  ...                   5                   5\n",
              "22   23     P23  ...                   4                   5\n",
              "23   24     P24  ...                   1                   1\n",
              "24   25     P25  ...                   5                   5\n",
              "25   26     P26  ...                   1                   1\n",
              "26   27     P27  ...                   5                   5\n",
              "27   28     P28  ...                   1                   3\n",
              "28   29     P29  ...                   1                   5\n",
              "29   30     P30  ...                   2                   1\n",
              "30   31     P31  ...                   1                   3\n",
              "31   32     P32  ...                   5                   5\n",
              "32   33     P33  ...                   5                   5\n",
              "33   34     P34  ...                   3                   2\n",
              "34   35     P35  ...                   7                   8\n",
              "35   36     P36  ...                   4                   6\n",
              "36   37     P37  ...                   8                   3\n",
              "37   38     P38  ...                   6                   1\n",
              "38   39     P39  ...                   5                   5\n",
              "39   40     P40  ...                   5                   5\n",
              "40   41     P41  ...                   5                   5\n",
              "41   42     P42  ...                   7                   8\n",
              "42   43     P43  ...                   4                   6\n",
              "43   44     P44  ...                   5                   5\n",
              "44   45     P45  ...                   6                   3\n",
              "45   46     P46  ...                   1                   5\n",
              "46   47     P47  ...                   3                   1\n",
              "47   48     P48  ...                   1                   1\n",
              "48   49     P49  ...                   5                   5\n",
              "49   50     P50  ...                   5                   2\n",
              "50   51     P51  ...                   5                   5\n",
              "51   52     P52  ...                   5                   3\n",
              "52   53     P53  ...                   9                   8\n",
              "53   54     P54  ...                   4                   6\n",
              "54   55     P55  ...                   6                   6\n",
              "\n",
              "[55 rows x 6 columns]"
            ]
          },
          "metadata": {},
          "execution_count": 22
        }
      ]
    },
    {
      "cell_type": "code",
      "metadata": {
        "id": "6qh-MLei792f"
      },
      "source": [
        "#Output dataframe"
      ],
      "execution_count": null,
      "outputs": []
    },
    {
      "cell_type": "code",
      "metadata": {
        "colab": {
          "base_uri": "https://localhost:8080/"
        },
        "id": "wSlJBamw6__E",
        "outputId": "afe482a3-aada-48b5-eda5-114fed8dc41c"
      },
      "source": [
        "kluster_kmeans = df[\"kluster\"].value_counts()\n",
        "kluster_kmeans"
      ],
      "execution_count": null,
      "outputs": [
        {
          "output_type": "execute_result",
          "data": {
            "text/plain": [
              "0    23\n",
              "1    19\n",
              "2    13\n",
              "Name: kluster, dtype: int64"
            ]
          },
          "metadata": {},
          "execution_count": 24
        }
      ]
    },
    {
      "cell_type": "code",
      "metadata": {
        "colab": {
          "base_uri": "https://localhost:8080/"
        },
        "id": "yCslU3Cc8nAh",
        "outputId": "23ea5657-e974-4d1c-eac3-0a15eb9ea3fa"
      },
      "source": [
        "kluster_kmedoids = df[\"cluster\"].value_counts()\n",
        "kluster_kmedoids"
      ],
      "execution_count": null,
      "outputs": [
        {
          "output_type": "execute_result",
          "data": {
            "text/plain": [
              "1    25\n",
              "0    19\n",
              "2    11\n",
              "Name: cluster, dtype: int64"
            ]
          },
          "metadata": {},
          "execution_count": 26
        }
      ]
    },
    {
      "cell_type": "markdown",
      "metadata": {
        "id": "cFHwnLQ-Ajjc"
      },
      "source": [
        "note: yg manual dan program berbeda, dugaan: karena perbedaan memilih centroid\n"
      ]
    }
  ]
}